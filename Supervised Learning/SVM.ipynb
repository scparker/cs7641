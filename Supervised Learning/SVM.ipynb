{
 "cells": [
  {
   "cell_type": "markdown",
   "metadata": {},
   "source": [
    "#  Supervised Learning Assignment\n",
    "###  Decision Tree Analysis\n",
    "\n",
    "####  S. Parker 2016\n",
    "\n",
    "This notebook will examine the phishing dataset with decision trees.  It will look at the effectiveness of the decision trees relative to:\n",
    "\n",
    "*  Levels in the decision tree\n",
    "*  Number of training samples\n",
    "*  Bias vs variance calculations\n",
    "*  Performance metrics (memory used, time to fit, time to predict)\n",
    "\n",
    "Also explored will be the effect of pre-pruning the data set and how this affects performance."
   ]
  },
  {
   "cell_type": "code",
   "execution_count": 1,
   "metadata": {
    "collapsed": false
   },
   "outputs": [],
   "source": [
    "from sklearn import tree\n",
    "from sklearn import ensemble\n",
    "from sklearn import svm\n",
    "from sklearn import neighbors\n",
    "from sklearn.externals.six import StringIO  \n",
    "import pandas as pd\n",
    "import pydotplus\n",
    "import numpy as np\n",
    "import os, sys\n",
    "import timeit\n",
    "from IPython.display import display, HTML\n",
    "from IPython.display import Image \n",
    "import matplotlib.pyplot as plt\n",
    "%matplotlib inline\n",
    "import arff\n",
    "\n",
    "from supervised_learning import *\n",
    "\n",
    "from ipywidgets import interact, interactive, fixed\n",
    "import ipywidgets as widgets"
   ]
  },
  {
   "cell_type": "markdown",
   "metadata": {},
   "source": [
    "####  Control variables for simulation"
   ]
  },
  {
   "cell_type": "code",
   "execution_count": 2,
   "metadata": {
    "collapsed": true
   },
   "outputs": [],
   "source": [
    "training_test_split = .65"
   ]
  },
  {
   "cell_type": "markdown",
   "metadata": {},
   "source": [
    "####  Helper function to allow us to get the size of the learning model"
   ]
  },
  {
   "cell_type": "code",
   "execution_count": 3,
   "metadata": {
    "collapsed": true
   },
   "outputs": [],
   "source": [
    "import sys\n",
    "from numbers import Number\n",
    "from collections import Set, Mapping, deque\n",
    "\n",
    "try: # Python 2\n",
    "    zero_depth_bases = (basestring, Number, xrange, bytearray)\n",
    "    iteritems = 'iteritems'\n",
    "except NameError: # Python 3\n",
    "    zero_depth_bases = (str, bytes, Number, range, bytearray)\n",
    "    iteritems = 'items'\n",
    "\n",
    "def getsize(obj_0):\n",
    "    \"\"\"Recursively iterate to sum size of object & members.\"\"\"\n",
    "    def inner(obj, _seen_ids = set()):\n",
    "        obj_id = id(obj)\n",
    "        if obj_id in _seen_ids:\n",
    "            return 0\n",
    "        _seen_ids.add(obj_id)\n",
    "        size = sys.getsizeof(obj)\n",
    "        if isinstance(obj, zero_depth_bases):\n",
    "            pass # bypass remaining control flow and return\n",
    "        elif isinstance(obj, (tuple, list, Set, deque)):\n",
    "            size += sum(inner(i) for i in obj)\n",
    "        elif isinstance(obj, Mapping) or hasattr(obj, iteritems):\n",
    "            size += sum(inner(k) + inner(v) for k, v in getattr(obj, iteritems)())\n",
    "        # Check for custom object instances - may subclass above too\n",
    "        if hasattr(obj, '__dict__'):\n",
    "            size += inner(vars(obj))\n",
    "        if hasattr(obj, '__slots__'): # can have __slots__ with __dict__\n",
    "            size += sum(inner(getattr(obj, s)) for s in obj.__slots__ if hasattr(obj, s))\n",
    "        return size\n",
    "    return inner(obj_0)"
   ]
  },
  {
   "cell_type": "markdown",
   "metadata": {},
   "source": [
    "##  Load and prepare training set #1\n",
    "\n",
    "For this assignment I choose the following two data sets:\n",
    "    \n",
    "*  Phishing data set - looks at various attributes of a website address and compute whether the site if a phishing site or not"
   ]
  },
  {
   "cell_type": "code",
   "execution_count": 4,
   "metadata": {
    "collapsed": false
   },
   "outputs": [],
   "source": [
    "df_training, df_testing = loadSpamDataSet()\n",
    "dataset = \"SPAM Datast\"\n",
    "\n",
    "#df_training, df_testing = loadPhishingDataSet()\n",
    "#dataset = \"Spam\""
   ]
  },
  {
   "cell_type": "markdown",
   "metadata": {},
   "source": [
    "##  Vary Decision Tree Depth to see effect on training and testing sets"
   ]
  },
  {
   "cell_type": "code",
   "execution_count": 5,
   "metadata": {
    "collapsed": false
   },
   "outputs": [],
   "source": [
    "clf = svm.SVC()"
   ]
  },
  {
   "cell_type": "code",
   "execution_count": 6,
   "metadata": {
    "collapsed": false
   },
   "outputs": [
    {
     "data": {
      "text/plain": [
       "SVC(C=1.0, cache_size=200, class_weight=None, coef0=0.0,\n",
       "  decision_function_shape=None, degree=3, gamma='auto', kernel='rbf',\n",
       "  max_iter=-1, probability=False, random_state=None, shrinking=True,\n",
       "  tol=0.001, verbose=False)"
      ]
     },
     "execution_count": 6,
     "metadata": {},
     "output_type": "execute_result"
    }
   ],
   "source": [
    "clf.fit(df_training.values[:,0:-1], df_training.values[:,-1])"
   ]
  },
  {
   "cell_type": "code",
   "execution_count": 8,
   "metadata": {
    "collapsed": false
   },
   "outputs": [
    {
     "name": "stdout",
     "output_type": "stream",
     "text": [
      "rbf\n"
     ]
    },
    {
     "data": {
      "text/html": [
       "<table border=\"1\" class=\"dataframe\">\n",
       "  <thead>\n",
       "    <tr style=\"text-align: right;\">\n",
       "      <th>SVM Kernel</th>\n",
       "      <th>Training Set Accuracy</th>\n",
       "      <th>Testing Set Accuracy</th>\n",
       "      <th>Fit Runtime (ms)</th>\n",
       "      <th>Predict Runtime (ms)</th>\n",
       "      <th>Memory Usage (bytes)</th>\n",
       "    </tr>\n",
       "  </thead>\n",
       "  <tbody>\n",
       "    <tr>\n",
       "      <td>rbf</td>\n",
       "      <td>0.940803</td>\n",
       "      <td>0.665217</td>\n",
       "      <td>4514.202056</td>\n",
       "      <td>1917.34758</td>\n",
       "      <td>1020974</td>\n",
       "    </tr>\n",
       "  </tbody>\n",
       "</table>"
      ],
      "text/plain": [
       "<IPython.core.display.HTML object>"
      ]
     },
     "metadata": {},
     "output_type": "display_data"
    },
    {
     "data": {
      "image/png": "[encoded data removed]",
      "text/plain": [
       "<matplotlib.figure.Figure at 0x46e82b0>"
      ]
     },
     "metadata": {},
     "output_type": "display_data"
    }
   ],
   "source": [
    "training_accuracy = []\n",
    "testing_accuracy = []\n",
    "fit_run_time = []\n",
    "predict_run_time= []\n",
    "memory_usage = []\n",
    "\n",
    "percent_of_training_data = [1.0]\n",
    "\n",
    "#kernels = [\"rbf\", \"poly\", \"linear\"]\n",
    "kernels = [\"rbf\"]\n",
    "\n",
    "\n",
    "for kernel in kernels:\n",
    "    print(kernel)\n",
    "    new_training_accuracy = []\n",
    "    new_testing_accuracy = []\n",
    "    for percent in percent_of_training_data:\n",
    "        clf = svm.SVC(kernel = kernel)\n",
    "        \n",
    "        fit_run_time.append(timeit.timeit(\"clf.fit(df_training.values[:,0:-1], df_training.values[:,-1])\", \n",
    "              \"from __main__ import clf, df_training\",\n",
    "               number = 5))\n",
    "        \n",
    "        clf.fit(df_training.values[0:int(percent * len(df_training)),0:-1], \\\n",
    "                df_training.values[0:int(percent * len(df_training)),-1])\n",
    "    \n",
    "        memory_usage.append(getsize(clf))\n",
    "    \n",
    "        new_training_accuracy.append(clf.score(df_training.values[:,0:-1], df_training.values[:,-1]))\n",
    "        new_testing_accuracy.append(clf.score(df_testing.values[:,0:-1], df_testing.values[:,-1]))\n",
    "    \n",
    "    predict_run_time.append(timeit.timeit(\"clf.score(df_testing.values[:,0:-1], df_testing.values[:,-1])\",\n",
    "                                          \"from __main__ import clf, df_testing\",\n",
    "                                          number=5))\n",
    "    \n",
    "    training_accuracy.append(new_training_accuracy)\n",
    "    testing_accuracy.append(new_testing_accuracy)\n",
    "\n",
    "\n",
    "plt.rcParams.update({'font.size': 12})    \n",
    "fig = plt.figure(figsize=(20,20))    \n",
    "    \n",
    "plt.subplot(321)\n",
    "\n",
    "for i, kernel in enumerate(kernels):\n",
    "    plt.plot(percent_of_training_data, training_accuracy[i])\n",
    "    plt.plot(percent_of_training_data, testing_accuracy[i])\n",
    "\n",
    "plt.xlabel(\"Fraction of Training Set\")\n",
    "plt.ylabel(\"Accuracy\")\n",
    "plt.legend([\"Training Set\", \"Testing Set\"], loc=2)\n",
    "\n",
    "\n",
    "if dataset == \"Spam\":\n",
    "    df_results = pd.DataFrame()\n",
    "    df_results[\"SVM Kernel\"] = kernels\n",
    "    df_results[\"Training Set Accuracy\"] = [training_accuracy[0][0], training_accuracy[1][0], training_accuracy[2][0]]\n",
    "    df_results[\"Testing Set Accuracy\"] = [testing_accuracy[0][-1], testing_accuracy[1][-1], testing_accuracy[2][-1]]\n",
    "    df_results[\"Fit Runtime (ms)\"] = [fit_run_time[0]*1000, fit_run_time[1]*1000, fit_run_time[2]*1000]\n",
    "    df_results[\"Predict Runtime (ms)\"] = [predict_run_time[0]*1000, predict_run_time[1]*1000, predict_run_time[2]*1000]\n",
    "    df_results[\"Memory Usage (bytes)\"] = [memory_usage[0], memory_usage[1], memory_usage[2]]\n",
    "    display(HTML(df_results.to_html(index=False)))\n",
    "else:\n",
    "    df_results = pd.DataFrame()\n",
    "    df_results[\"SVM Kernel\"] = kernels\n",
    "    df_results[\"Training Set Accuracy\"] = [training_accuracy[0][0]]\n",
    "    df_results[\"Testing Set Accuracy\"] = [testing_accuracy[0][-1]]\n",
    "    df_results[\"Fit Runtime (ms)\"] = [fit_run_time[0]*1000]\n",
    "    df_results[\"Predict Runtime (ms)\"] = [predict_run_time[0]*1000]\n",
    "    df_results[\"Memory Usage (bytes)\"] = [memory_usage[0]]\n",
    "    display(HTML(df_results.to_html(index=False)))\n"
   ]
  },
  {
   "cell_type": "code",
   "execution_count": null,
   "metadata": {
    "collapsed": false
   },
   "outputs": [],
   "source": [
    "df_results = pd.DataFrame()\n",
    "df_results[\"SVM Kernel\"] = kernels\n",
    "df_results[\"Training Set Accuracy\"] = [training_accuracy[0][0], training_accuracy[1][0], training_accuracy[2][0]]\n",
    "df_results[\"Testing Set Accuracy\"] = [testing_accuracy[0][-1], testing_accuracy[1][-1], testing_accuracy[2][-1]]\n",
    "df_results[\"Fit Runtime (ms)\"] = [fit_run_time[0]*1000, fit_run_time[1]*1000, fit_run_time[2]*1000]\n",
    "df_results[\"Predict Runtime (ms)\"] = [predict_run_time[0]*1000, predict_run_time[1]*1000, predict_run_time[2]*1000]\n",
    "df_results[\"Memory Usage (bytes)\"] = [memory_usage[0], memory_usage[1], memory_usage[2]]\n",
    "display(HTML(df_results.to_html(index=False)))"
   ]
  },
  {
   "cell_type": "code",
   "execution_count": null,
   "metadata": {
    "collapsed": false
   },
   "outputs": [],
   "source": [
    "df_results[\"Training Set Accuracy\"] = [int(training_accuracy[0][0]), int(training_accuracy[1][0]), int(training_accuracy[2][0])]"
   ]
  }
 ],
 "metadata": {
  "anaconda-cloud": {},
  "kernelspec": {
   "display_name": "Python [conda env:Anaconda3]",
   "language": "python",
   "name": "conda-env-Anaconda3-py"
  },
  "language_info": {
   "codemirror_mode": {
    "name": "ipython",
    "version": 3
   },
   "file_extension": ".py",
   "mimetype": "text/x-python",
   "name": "python",
   "nbconvert_exporter": "python",
   "pygments_lexer": "ipython3",
   "version": "3.5.2"
  }
 },
 "nbformat": 4,
 "nbformat_minor": 0
}
